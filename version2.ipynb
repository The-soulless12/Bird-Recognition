{
  "cells": [
    {
      "cell_type": "markdown",
      "id": "475bb731",
      "metadata": {
        "id": "475bb731"
      },
      "source": [
        "# 🐦 BIRD RECOGNITION"
      ]
    },
    {
      "cell_type": "code",
      "execution_count": 13,
      "id": "a1bb5028",
      "metadata": {
        "id": "a1bb5028"
      },
      "outputs": [],
      "source": [
        "import tensorflow as tf\n",
        "from tensorflow.keras.preprocessing import image_dataset_from_directory\n",
        "from tensorflow.keras.applications import MobileNetV2\n",
        "from tensorflow.keras.layers import Dense, GlobalAveragePooling2D\n",
        "from tensorflow.keras.models import Model\n",
        "from tensorflow.keras.callbacks import EarlyStopping\n",
        "from tensorflow.keras.layers import BatchNormalization, Dropout\n",
        "import matplotlib.pyplot as plt"
      ]
    },
    {
      "cell_type": "code",
      "execution_count": null,
      "id": "29d222b9",
      "metadata": {
        "colab": {
          "base_uri": "https://localhost:8080/"
        },
        "id": "29d222b9",
        "outputId": "6ed0928d-1d87-46be-f243-b0800e3b018c"
      },
      "outputs": [
        {
          "name": "stdout",
          "output_type": "stream",
          "text": [
            "Found 3422 files belonging to 20 classes.\n",
            "Using 2738 files for training.\n",
            "Found 3422 files belonging to 20 classes.\n",
            "Using 684 files for validation.\n"
          ]
        }
      ],
      "source": [
        "# 1. Charger les données\n",
        "dataset_path = \"images\"  # Remplace par le chemin de ton dataset\n",
        "\n",
        "# 80% entraînement, 20% test\n",
        "train_ds = image_dataset_from_directory(\n",
        "    dataset_path,\n",
        "    validation_split=0.2,\n",
        "    subset=\"training\",\n",
        "    seed=123,\n",
        "    image_size=(224, 224),\n",
        "    batch_size=32\n",
        ")\n",
        "\n",
        "val_ds = image_dataset_from_directory(\n",
        "    dataset_path,\n",
        "    validation_split=0.2,\n",
        "    subset=\"validation\",\n",
        "    seed=123,\n",
        "    image_size=(224, 224),\n",
        "    batch_size=32\n",
        ")\n",
        "\n",
        "# Prétraitement\n",
        "AUTOTUNE = tf.data.AUTOTUNE\n",
        "train_ds = train_ds.prefetch(buffer_size=AUTOTUNE)\n",
        "val_ds = val_ds.prefetch(buffer_size=AUTOTUNE)\n"
      ]
    },
    {
      "cell_type": "code",
      "execution_count": 16,
      "id": "7dc0398b",
      "metadata": {
        "id": "7dc0398b"
      },
      "outputs": [],
      "source": [
        "\n",
        "# 2. Importer un modèle pré-entraîné (MobileNetV2)\n",
        "base_model = MobileNetV2(input_shape=(224, 224, 3), include_top=False, weights='imagenet')\n",
        "# Fine-tuning : déverrouiller les dernières 2 couches\n",
        "base_model.trainable = True\n",
        "\n",
        "# On freeze toutes les couches sauf les 2 dernières\n",
        "for layer in base_model.layers[:-2]:\n",
        "    layer.trainable = False\n"
      ]
    },
    {
      "cell_type": "code",
      "execution_count": 17,
      "id": "1287b0c0",
      "metadata": {
        "id": "1287b0c0"
      },
      "outputs": [],
      "source": [
        "# 3. Ajouter des couches pour la classification\n",
        "x = base_model.output\n",
        "x = GlobalAveragePooling2D()(x)\n",
        "x = BatchNormalization()(x)\n",
        "x = Dense(128, activation='relu')(x)\n",
        "x = Dropout(0.2)(x)  # 20% des neurones désactivés pendant l'entraînement\n",
        "x = BatchNormalization()(x)\n",
        "predictions = Dense(20, activation='softmax')(x)\n",
        "\n",
        "\n",
        "model = Model(inputs=base_model.input, outputs=predictions)\n"
      ]
    },
    {
      "cell_type": "code",
      "execution_count": 18,
      "id": "000ca606",
      "metadata": {
        "id": "000ca606"
      },
      "outputs": [],
      "source": [
        "\n",
        "# 4. Compiler le modèle\n",
        "model.compile(optimizer='adam', loss='sparse_categorical_crossentropy', metrics=['accuracy'])"
      ]
    },
    {
      "cell_type": "code",
      "execution_count": 19,
      "id": "72a169c6",
      "metadata": {
        "colab": {
          "base_uri": "https://localhost:8080/"
        },
        "id": "72a169c6",
        "outputId": "a102c474-8442-4daf-cb37-f7bfe1508dd4"
      },
      "outputs": [
        {
          "name": "stdout",
          "output_type": "stream",
          "text": [
            "Epoch 1/10\n",
            "\u001b[1m86/86\u001b[0m \u001b[32m━━━━━━━━━━━━━━━━━━━━\u001b[0m\u001b[37m\u001b[0m \u001b[1m116s\u001b[0m 1s/step - accuracy: 0.1989 - loss: 2.8769 - val_accuracy: 0.2822 - val_loss: 2.3778\n",
            "Epoch 2/10\n",
            "\u001b[1m86/86\u001b[0m \u001b[32m━━━━━━━━━━━━━━━━━━━━\u001b[0m\u001b[37m\u001b[0m \u001b[1m169s\u001b[0m 2s/step - accuracy: 0.5482 - loss: 1.5293 - val_accuracy: 0.3436 - val_loss: 2.2662\n",
            "Epoch 3/10\n",
            "\u001b[1m86/86\u001b[0m \u001b[32m━━━━━━━━━━━━━━━━━━━━\u001b[0m\u001b[37m\u001b[0m \u001b[1m106s\u001b[0m 1s/step - accuracy: 0.6551 - loss: 1.1864 - val_accuracy: 0.3743 - val_loss: 2.2621\n",
            "Epoch 4/10\n",
            "\u001b[1m86/86\u001b[0m \u001b[32m━━━━━━━━━━━━━━━━━━━━\u001b[0m\u001b[37m\u001b[0m \u001b[1m171s\u001b[0m 2s/step - accuracy: 0.7235 - loss: 0.9404 - val_accuracy: 0.3640 - val_loss: 2.2224\n",
            "Epoch 5/10\n",
            "\u001b[1m86/86\u001b[0m \u001b[32m━━━━━━━━━━━━━━━━━━━━\u001b[0m\u001b[37m\u001b[0m \u001b[1m122s\u001b[0m 1s/step - accuracy: 0.7764 - loss: 0.7612 - val_accuracy: 0.3743 - val_loss: 2.3193\n",
            "Epoch 6/10\n",
            "\u001b[1m86/86\u001b[0m \u001b[32m━━━━━━━━━━━━━━━━━━━━\u001b[0m\u001b[37m\u001b[0m \u001b[1m154s\u001b[0m 1s/step - accuracy: 0.8359 - loss: 0.5984 - val_accuracy: 0.3889 - val_loss: 2.2007\n",
            "Epoch 7/10\n",
            "\u001b[1m86/86\u001b[0m \u001b[32m━━━━━━━━━━━━━━━━━━━━\u001b[0m\u001b[37m\u001b[0m \u001b[1m119s\u001b[0m 1s/step - accuracy: 0.8788 - loss: 0.4746 - val_accuracy: 0.4240 - val_loss: 2.0963\n",
            "Epoch 8/10\n",
            "\u001b[1m86/86\u001b[0m \u001b[32m━━━━━━━━━━━━━━━━━━━━\u001b[0m\u001b[37m\u001b[0m \u001b[1m146s\u001b[0m 1s/step - accuracy: 0.9193 - loss: 0.3600 - val_accuracy: 0.4211 - val_loss: 2.1582\n",
            "Epoch 9/10\n",
            "\u001b[1m86/86\u001b[0m \u001b[32m━━━━━━━━━━━━━━━━━━━━\u001b[0m\u001b[37m\u001b[0m \u001b[1m166s\u001b[0m 1s/step - accuracy: 0.9282 - loss: 0.3057 - val_accuracy: 0.4488 - val_loss: 2.0472\n",
            "Epoch 10/10\n",
            "\u001b[1m86/86\u001b[0m \u001b[32m━━━━━━━━━━━━━━━━━━━━\u001b[0m\u001b[37m\u001b[0m \u001b[1m132s\u001b[0m 2s/step - accuracy: 0.9475 - loss: 0.2661 - val_accuracy: 0.4518 - val_loss: 2.0279\n"
          ]
        }
      ],
      "source": [
        "# 5. Entraîner le modèle\n",
        "history = model.fit(train_ds, validation_data=val_ds, epochs=10, callbacks=[\n",
        "    EarlyStopping(patience=3, restore_best_weights=True)\n",
        "])"
      ]
    },
    {
      "cell_type": "code",
      "execution_count": 20,
      "id": "21976006",
      "metadata": {
        "colab": {
          "base_uri": "https://localhost:8080/"
        },
        "id": "21976006",
        "outputId": "fd090b0a-23db-4d74-e98e-0d0669e5619f"
      },
      "outputs": [
        {
          "name": "stdout",
          "output_type": "stream",
          "text": [
            "\u001b[1m22/22\u001b[0m \u001b[32m━━━━━━━━━━━━━━━━━━━━\u001b[0m\u001b[37m\u001b[0m \u001b[1m35s\u001b[0m 2s/step - accuracy: 0.4702 - loss: 1.9625\n",
            "Accuracy : 45.18%\n"
          ]
        }
      ],
      "source": [
        "\n",
        "# 6. Évaluer les performances\n",
        "loss, accuracy = model.evaluate(val_ds)\n",
        "print(f\"Accuracy : {accuracy*100:.2f}%\")"
      ]
    },
    {
      "cell_type": "code",
      "execution_count": 21,
      "id": "72e8924f",
      "metadata": {
        "colab": {
          "base_uri": "https://localhost:8080/",
          "height": 474
        },
        "id": "72e8924f",
        "outputId": "2dc7d78e-7e33-4ece-ea04-c41a08e68bdd"
      },
      "outputs": [
        {
          "data": {
            "image/png": "[encoded data removed]",
            "text/plain": [
              "<Figure size 640x480 with 1 Axes>"
            ]
          },
          "metadata": {},
          "output_type": "display_data"
        }
      ],
      "source": [
        "\n",
        "# 7. Afficher l’évolution de l’apprentissage\n",
        "plt.plot(history.history['accuracy'], label='train')\n",
        "plt.plot(history.history['val_accuracy'], label='val')\n",
        "plt.xlabel('Épochs')\n",
        "plt.ylabel('Accuracy')\n",
        "plt.legend()\n",
        "plt.title(\"Performance du modèle\")\n",
        "plt.show()"
      ]
    }
  ],
  "metadata": {
    "colab": {
      "provenance": [],
      "toc_visible": true
    },
    "kernelspec": {
      "display_name": "Python 3",
      "language": "python",
      "name": "python3"
    },
    "language_info": {
      "codemirror_mode": {
        "name": "ipython",
        "version": 3
      },
      "file_extension": ".py",
      "mimetype": "text/x-python",
      "name": "python",
      "nbconvert_exporter": "python",
      "pygments_lexer": "ipython3",
      "version": "3.11.0"
    }
  },
  "nbformat": 4,
  "nbformat_minor": 5
}
