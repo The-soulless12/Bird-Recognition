{
  "cells": [
    {
      "cell_type": "markdown",
      "id": "475bb731",
      "metadata": {
        "id": "475bb731"
      },
      "source": [
        "# 🐦 BIRD RECOGNITION"
      ]
    },
    {
      "cell_type": "code",
      "execution_count": 42,
      "id": "a1bb5028",
      "metadata": {
        "id": "a1bb5028"
      },
      "outputs": [],
      "source": [
        "import tensorflow as tf\n",
        "from tensorflow.keras.preprocessing import image_dataset_from_directory\n",
        "from tensorflow.keras.applications.efficientnet import preprocess_input\n",
        "from tensorflow.keras.applications import EfficientNetB3\n",
        "from tensorflow.keras.layers import Dense, GlobalAveragePooling2D\n",
        "from tensorflow.keras.models import Model\n",
        "from tensorflow.keras.callbacks import EarlyStopping\n",
        "from tensorflow.keras.layers import BatchNormalization, Dropout\n",
        "import matplotlib.pyplot as plt"
      ]
    },
    {
      "cell_type": "markdown",
      "id": "482a804b",
      "metadata": {
        "id": "482a804b"
      },
      "source": [
        "### CHARGEMENT DES DONNÉES"
      ]
    },
    {
      "cell_type": "code",
      "execution_count": null,
      "id": "29d222b9",
      "metadata": {
        "colab": {
          "base_uri": "https://localhost:8080/"
        },
        "id": "29d222b9",
        "outputId": "69af8ced-1751-4fd1-ac7b-9cc044fd6ff5"
      },
      "outputs": [
        {
          "name": "stdout",
          "output_type": "stream",
          "text": [
            "Found 3422 files belonging to 20 classes.\n",
            "Using 2738 files for training.\n",
            "Found 3422 files belonging to 20 classes.\n",
            "Using 684 files for validation.\n"
          ]
        }
      ],
      "source": [
        "dataset_path = \"images\"\n",
        "\n",
        "# 80% entraînement, 20% test\n",
        "train_ds = image_dataset_from_directory(\n",
        "    dataset_path,\n",
        "    validation_split=0.2,\n",
        "    subset=\"training\",\n",
        "    seed=123,\n",
        "    image_size=(224, 224),\n",
        "    batch_size=32\n",
        ")\n",
        "\n",
        "val_ds = image_dataset_from_directory(\n",
        "    dataset_path,\n",
        "    validation_split=0.2,\n",
        "    subset=\"validation\",\n",
        "    seed=123,\n",
        "    image_size=(224, 224),\n",
        "    batch_size=32\n",
        ")\n",
        "\n",
        "train_ds = train_ds.map(lambda x, y: (preprocess_input(x), y))\n",
        "val_ds = val_ds.map(lambda x, y: (preprocess_input(x), y))\n",
        "\n",
        "AUTOTUNE = tf.data.AUTOTUNE\n",
        "train_ds = train_ds.prefetch(buffer_size=AUTOTUNE)\n",
        "val_ds = val_ds.prefetch(buffer_size=AUTOTUNE)"
      ]
    },
    {
      "cell_type": "markdown",
      "id": "e8754700",
      "metadata": {
        "id": "e8754700"
      },
      "source": [
        "### IMPORTATION DU MODELE EFFICIENTNETB3"
      ]
    },
    {
      "cell_type": "code",
      "execution_count": null,
      "id": "7dc0398b",
      "metadata": {
        "id": "7dc0398b"
      },
      "outputs": [],
      "source": [
        "base_model = EfficientNetB3(input_shape=(224, 224, 3), include_top=False, weights='imagenet')\n",
        "base_model.trainable = True\n",
        "\n",
        "# On défreeze les 35 dernières couches\n",
        "for layer in base_model.layers[:-35]:\n",
        "    layer.trainable = False"
      ]
    },
    {
      "cell_type": "markdown",
      "id": "967f3a37",
      "metadata": {
        "id": "967f3a37"
      },
      "source": [
        "### AJOUT DES COUCHES POUR LA CLASSIFICATION"
      ]
    },
    {
      "cell_type": "code",
      "execution_count": null,
      "id": "1287b0c0",
      "metadata": {
        "id": "1287b0c0"
      },
      "outputs": [],
      "source": [
        "x = base_model.output\n",
        "x = GlobalAveragePooling2D()(x)\n",
        "x = BatchNormalization()(x) # stabilisation de l'apprentissage\n",
        "x = Dense(128, activation='relu')(x) # couche fully connected\n",
        "x = Dropout(0.30)(x)  # 30% des neurones sont désactivés pendant l'entraînement\n",
        "x = BatchNormalization()(x)\n",
        "predictions = Dense(20, activation='softmax')(x)\n",
        "\n",
        "model = Model(inputs=base_model.input, outputs=predictions)\n",
        "# Compilation du modèle\n",
        "model.compile(optimizer='adam', loss='sparse_categorical_crossentropy', metrics=['accuracy'])"
      ]
    },
    {
      "cell_type": "markdown",
      "id": "7d92ab39",
      "metadata": {
        "id": "7d92ab39"
      },
      "source": [
        "### ENTRAINEMENT DU MODÈLE"
      ]
    },
    {
      "cell_type": "code",
      "execution_count": 47,
      "id": "72a169c6",
      "metadata": {
        "colab": {
          "base_uri": "https://localhost:8080/"
        },
        "id": "72a169c6",
        "outputId": "16207925-1ad1-49bd-e5b1-8b0841c437a2"
      },
      "outputs": [
        {
          "name": "stdout",
          "output_type": "stream",
          "text": [
            "Epoch 1/20\n",
            "\u001b[1m86/86\u001b[0m \u001b[32m━━━━━━━━━━━━━━━━━━━━\u001b[0m\u001b[37m\u001b[0m \u001b[1m91s\u001b[0m 536ms/step - accuracy: 0.7584 - loss: 0.9118 - val_accuracy: 0.9620 - val_loss: 0.2672\n",
            "Epoch 2/20\n",
            "\u001b[1m86/86\u001b[0m \u001b[32m━━━━━━━━━━━━━━━━━━━━\u001b[0m\u001b[37m\u001b[0m \u001b[1m11s\u001b[0m 128ms/step - accuracy: 0.9850 - loss: 0.0739 - val_accuracy: 0.9854 - val_loss: 0.1033\n",
            "Epoch 3/20\n",
            "\u001b[1m86/86\u001b[0m \u001b[32m━━━━━━━━━━━━━━━━━━━━\u001b[0m\u001b[37m\u001b[0m \u001b[1m12s\u001b[0m 135ms/step - accuracy: 0.9894 - loss: 0.0564 - val_accuracy: 0.9795 - val_loss: 0.0843\n",
            "Epoch 4/20\n",
            "\u001b[1m86/86\u001b[0m \u001b[32m━━━━━━━━━━━━━━━━━━━━\u001b[0m\u001b[37m\u001b[0m \u001b[1m11s\u001b[0m 133ms/step - accuracy: 0.9966 - loss: 0.0200 - val_accuracy: 0.9825 - val_loss: 0.0825\n",
            "Epoch 5/20\n",
            "\u001b[1m86/86\u001b[0m \u001b[32m━━━━━━━━━━━━━━━━━━━━\u001b[0m\u001b[37m\u001b[0m \u001b[1m10s\u001b[0m 120ms/step - accuracy: 0.9925 - loss: 0.0303 - val_accuracy: 0.9810 - val_loss: 0.0839\n",
            "Epoch 6/20\n",
            "\u001b[1m86/86\u001b[0m \u001b[32m━━━━━━━━━━━━━━━━━━━━\u001b[0m\u001b[37m\u001b[0m \u001b[1m11s\u001b[0m 123ms/step - accuracy: 0.9945 - loss: 0.0303 - val_accuracy: 0.9839 - val_loss: 0.0829\n",
            "Epoch 7/20\n",
            "\u001b[1m86/86\u001b[0m \u001b[32m━━━━━━━━━━━━━━━━━━━━\u001b[0m\u001b[37m\u001b[0m \u001b[1m11s\u001b[0m 124ms/step - accuracy: 0.9968 - loss: 0.0136 - val_accuracy: 0.9868 - val_loss: 0.0756\n",
            "Epoch 8/20\n",
            "\u001b[1m86/86\u001b[0m \u001b[32m━━━━━━━━━━━━━━━━━━━━\u001b[0m\u001b[37m\u001b[0m \u001b[1m11s\u001b[0m 122ms/step - accuracy: 0.9976 - loss: 0.0107 - val_accuracy: 0.9825 - val_loss: 0.0897\n",
            "Epoch 9/20\n",
            "\u001b[1m86/86\u001b[0m \u001b[32m━━━━━━━━━━━━━━━━━━━━\u001b[0m\u001b[37m\u001b[0m \u001b[1m22s\u001b[0m 136ms/step - accuracy: 0.9987 - loss: 0.0079 - val_accuracy: 0.9883 - val_loss: 0.0743\n",
            "Epoch 10/20\n",
            "\u001b[1m86/86\u001b[0m \u001b[32m━━━━━━━━━━━━━━━━━━━━\u001b[0m\u001b[37m\u001b[0m \u001b[1m11s\u001b[0m 131ms/step - accuracy: 0.9980 - loss: 0.0096 - val_accuracy: 0.9737 - val_loss: 0.1439\n",
            "Epoch 11/20\n",
            "\u001b[1m86/86\u001b[0m \u001b[32m━━━━━━━━━━━━━━━━━━━━\u001b[0m\u001b[37m\u001b[0m \u001b[1m11s\u001b[0m 133ms/step - accuracy: 0.9946 - loss: 0.0184 - val_accuracy: 0.9839 - val_loss: 0.1043\n",
            "Epoch 12/20\n",
            "\u001b[1m86/86\u001b[0m \u001b[32m━━━━━━━━━━━━━━━━━━━━\u001b[0m\u001b[37m\u001b[0m \u001b[1m11s\u001b[0m 132ms/step - accuracy: 0.9975 - loss: 0.0122 - val_accuracy: 0.9810 - val_loss: 0.0986\n"
          ]
        }
      ],
      "source": [
        "history = model.fit(train_ds, validation_data=val_ds, epochs=20, callbacks=[\n",
        "    EarlyStopping(patience=3, restore_best_weights=True)\n",
        "])"
      ]
    },
    {
      "cell_type": "markdown",
      "id": "04473b90",
      "metadata": {
        "id": "04473b90"
      },
      "source": [
        "### ÉVALUATION DES PERFORMANCES"
      ]
    },
    {
      "cell_type": "code",
      "execution_count": 48,
      "id": "21976006",
      "metadata": {
        "colab": {
          "base_uri": "https://localhost:8080/"
        },
        "id": "21976006",
        "outputId": "8cd64a89-e9f8-4b72-a21d-bcabe3cf64e9"
      },
      "outputs": [
        {
          "name": "stdout",
          "output_type": "stream",
          "text": [
            "\u001b[1m22/22\u001b[0m \u001b[32m━━━━━━━━━━━━━━━━━━━━\u001b[0m\u001b[37m\u001b[0m \u001b[1m2s\u001b[0m 97ms/step - accuracy: 0.9915 - loss: 0.0549\n",
            "Accuracy : 98.83%\n"
          ]
        }
      ],
      "source": [
        "loss, accuracy = model.evaluate(val_ds)\n",
        "print(f\"Accuracy : {accuracy*100:.2f}%\")"
      ]
    },
    {
      "cell_type": "code",
      "execution_count": 49,
      "id": "72e8924f",
      "metadata": {
        "colab": {
          "base_uri": "https://localhost:8080/",
          "height": 474
        },
        "id": "72e8924f",
        "outputId": "7f14b2b9-bf6c-4e17-9427-8545ecc29fba"
      },
      "outputs": [
        {
          "data": {
            "image/png": "[encoded data removed]",
            "text/plain": [
              "<Figure size 640x480 with 1 Axes>"
            ]
          },
          "metadata": {},
          "output_type": "display_data"
        }
      ],
      "source": [
        "plt.plot(history.history['accuracy'], label='train')\n",
        "plt.plot(history.history['val_accuracy'], label='val')\n",
        "plt.xlabel('Épochs')\n",
        "plt.ylabel('Accuracy')\n",
        "plt.legend()\n",
        "plt.title(\"Performance du modèle\")\n",
        "plt.show()"
      ]
    },
    {
      "cell_type": "markdown",
      "id": "9ffbae9f",
      "metadata": {
        "id": "9ffbae9f"
      },
      "source": [
        "### SAUVEGARDE DU MODÈLE"
      ]
    },
    {
      "cell_type": "code",
      "execution_count": null,
      "id": "bZJ5bKyE1jN8",
      "metadata": {
        "id": "bZJ5bKyE1jN8"
      },
      "outputs": [
        {
          "name": "stdout",
          "output_type": "stream",
          "text": [
            "Modèle sauvegardé sous le nom 'E-30-35-98,83.keras'\n"
          ]
        }
      ],
      "source": [
        "model.save(\"E-30-35-98,83.keras\")\n",
        "# EfficientNetB3, 30% de dropout, 35 dernières couches dégelées & 98,83% d'accuracy"
      ]
    }
  ],
  "metadata": {
    "accelerator": "GPU",
    "colab": {
      "gpuType": "T4",
      "provenance": []
    },
    "kernelspec": {
      "display_name": "Python 3",
      "name": "python3"
    },
    "language_info": {
      "codemirror_mode": {
        "name": "ipython",
        "version": 3
      },
      "file_extension": ".py",
      "mimetype": "text/x-python",
      "name": "python",
      "nbconvert_exporter": "python",
      "pygments_lexer": "ipython3",
      "version": "3.11.0"
    }
  },
  "nbformat": 4,
  "nbformat_minor": 5
}
