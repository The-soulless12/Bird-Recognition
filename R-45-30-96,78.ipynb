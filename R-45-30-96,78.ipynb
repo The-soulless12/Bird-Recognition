{
  "cells": [
    {
      "cell_type": "markdown",
      "id": "475bb731",
      "metadata": {
        "id": "475bb731"
      },
      "source": [
        "# 🐦 BIRD RECOGNITION"
      ]
    },
    {
      "cell_type": "code",
      "execution_count": null,
      "id": "a1bb5028",
      "metadata": {
        "id": "a1bb5028"
      },
      "outputs": [],
      "source": [
        "import tensorflow as tf\n",
        "from tensorflow.keras.preprocessing import image_dataset_from_directory\n",
        "from tensorflow.keras.applications import ResNet50\n",
        "from tensorflow.keras.layers import Dense, GlobalAveragePooling2D\n",
        "from tensorflow.keras.models import Model\n",
        "from tensorflow.keras.callbacks import EarlyStopping\n",
        "from tensorflow.keras.layers import BatchNormalization, Dropout\n",
        "import matplotlib.pyplot as plt"
      ]
    },
    {
      "cell_type": "markdown",
      "id": "482a804b",
      "metadata": {},
      "source": [
        "### CHARGEMENT DES DONNÉES"
      ]
    },
    {
      "cell_type": "code",
      "execution_count": null,
      "id": "29d222b9",
      "metadata": {
        "colab": {
          "base_uri": "https://localhost:8080/"
        },
        "id": "29d222b9",
        "outputId": "778d1a58-d4fc-42cf-aa14-3bca6e722bb8"
      },
      "outputs": [
        {
          "name": "stdout",
          "output_type": "stream",
          "text": [
            "Found 3422 files belonging to 20 classes.\n",
            "Using 2738 files for training.\n",
            "Found 3422 files belonging to 20 classes.\n",
            "Using 684 files for validation.\n"
          ]
        }
      ],
      "source": [
        "dataset_path = \"images\" \n",
        "\n",
        "# 80% entraînement, 20% test\n",
        "train_ds = image_dataset_from_directory(\n",
        "    dataset_path,\n",
        "    validation_split=0.2,\n",
        "    subset=\"training\",\n",
        "    seed=123,\n",
        "    image_size=(224, 224),\n",
        "    batch_size=32\n",
        ")\n",
        "\n",
        "val_ds = image_dataset_from_directory(\n",
        "    dataset_path,\n",
        "    validation_split=0.2,\n",
        "    subset=\"validation\",\n",
        "    seed=123,\n",
        "    image_size=(224, 224),\n",
        "    batch_size=32\n",
        ")\n",
        "\n",
        "AUTOTUNE = tf.data.AUTOTUNE\n",
        "train_ds = train_ds.prefetch(buffer_size=AUTOTUNE)\n",
        "val_ds = val_ds.prefetch(buffer_size=AUTOTUNE)"
      ]
    },
    {
      "cell_type": "markdown",
      "id": "e8754700",
      "metadata": {},
      "source": [
        "### IMPORTATION DU MODELE RESNET50"
      ]
    },
    {
      "cell_type": "code",
      "execution_count": null,
      "id": "7dc0398b",
      "metadata": {
        "id": "7dc0398b"
      },
      "outputs": [],
      "source": [
        "base_model = ResNet50(input_shape=(224, 224, 3), include_top=False, weights='imagenet')\n",
        "base_model.trainable = True\n",
        "\n",
        "# On défreeze les 30 dernières\n",
        "for layer in base_model.layers[:-30]:\n",
        "    layer.trainable = False"
      ]
    },
    {
      "cell_type": "markdown",
      "id": "967f3a37",
      "metadata": {},
      "source": [
        "### AJOUT DES COUCHES POUR LA CLASSIFICATION"
      ]
    },
    {
      "cell_type": "code",
      "execution_count": null,
      "id": "1287b0c0",
      "metadata": {
        "id": "1287b0c0"
      },
      "outputs": [],
      "source": [
        "x = base_model.output\n",
        "x = GlobalAveragePooling2D()(x)\n",
        "x = BatchNormalization()(x)\n",
        "x = Dense(128, activation='relu')(x)\n",
        "x = Dropout(0.45)(x)  # 45% des neurones sont désactivés pendant l'entraînement\n",
        "x = BatchNormalization()(x)\n",
        "predictions = Dense(20, activation='softmax')(x)\n",
        "\n",
        "model = Model(inputs=base_model.input, outputs=predictions)\n",
        "# Compilation du modèle\n",
        "model.compile(optimizer='adam', loss='sparse_categorical_crossentropy', metrics=['accuracy'])"
      ]
    },
    {
      "cell_type": "markdown",
      "id": "7d92ab39",
      "metadata": {},
      "source": [
        "### ENTRAINEMENT DU MODÈLE "
      ]
    },
    {
      "cell_type": "code",
      "execution_count": null,
      "id": "72a169c6",
      "metadata": {
        "colab": {
          "base_uri": "https://localhost:8080/"
        },
        "id": "72a169c6",
        "outputId": "c708f633-60a8-42cb-80af-9929822cf3ee"
      },
      "outputs": [
        {
          "name": "stdout",
          "output_type": "stream",
          "text": [
            "Epoch 1/20\n",
            "\u001b[1m86/86\u001b[0m \u001b[32m━━━━━━━━━━━━━━━━━━━━\u001b[0m\u001b[37m\u001b[0m \u001b[1m50s\u001b[0m 345ms/step - accuracy: 0.6624 - loss: 1.2442 - val_accuracy: 0.4795 - val_loss: 1.8518\n",
            "Epoch 2/20\n",
            "\u001b[1m86/86\u001b[0m \u001b[32m━━━━━━━━━━━━━━━━━━━━\u001b[0m\u001b[37m\u001b[0m \u001b[1m13s\u001b[0m 146ms/step - accuracy: 0.9523 - loss: 0.2233 - val_accuracy: 0.9167 - val_loss: 0.5612\n",
            "Epoch 3/20\n",
            "\u001b[1m86/86\u001b[0m \u001b[32m━━━━━━━━━━━━━━━━━━━━\u001b[0m\u001b[37m\u001b[0m \u001b[1m21s\u001b[0m 153ms/step - accuracy: 0.9776 - loss: 0.1200 - val_accuracy: 0.9561 - val_loss: 0.1751\n",
            "Epoch 4/20\n",
            "\u001b[1m86/86\u001b[0m \u001b[32m━━━━━━━━━━━━━━━━━━━━\u001b[0m\u001b[37m\u001b[0m \u001b[1m20s\u001b[0m 145ms/step - accuracy: 0.9914 - loss: 0.0607 - val_accuracy: 0.9605 - val_loss: 0.1745\n",
            "Epoch 5/20\n",
            "\u001b[1m86/86\u001b[0m \u001b[32m━━━━━━━━━━━━━━━━━━━━\u001b[0m\u001b[37m\u001b[0m \u001b[1m21s\u001b[0m 147ms/step - accuracy: 0.9904 - loss: 0.0621 - val_accuracy: 0.9108 - val_loss: 0.3404\n",
            "Epoch 6/20\n",
            "\u001b[1m86/86\u001b[0m \u001b[32m━━━━━━━━━━━━━━━━━━━━\u001b[0m\u001b[37m\u001b[0m \u001b[1m13s\u001b[0m 149ms/step - accuracy: 0.9916 - loss: 0.0484 - val_accuracy: 0.9488 - val_loss: 0.2073\n",
            "Epoch 7/20\n",
            "\u001b[1m86/86\u001b[0m \u001b[32m━━━━━━━━━━━━━━━━━━━━\u001b[0m\u001b[37m\u001b[0m \u001b[1m13s\u001b[0m 150ms/step - accuracy: 0.9912 - loss: 0.0425 - val_accuracy: 0.9678 - val_loss: 0.1474\n",
            "Epoch 8/20\n",
            "\u001b[1m86/86\u001b[0m \u001b[32m━━━━━━━━━━━━━━━━━━━━\u001b[0m\u001b[37m\u001b[0m \u001b[1m13s\u001b[0m 148ms/step - accuracy: 0.9945 - loss: 0.0286 - val_accuracy: 0.9488 - val_loss: 0.2003\n",
            "Epoch 9/20\n",
            "\u001b[1m86/86\u001b[0m \u001b[32m━━━━━━━━━━━━━━━━━━━━\u001b[0m\u001b[37m\u001b[0m \u001b[1m21s\u001b[0m 149ms/step - accuracy: 0.9922 - loss: 0.0410 - val_accuracy: 0.9020 - val_loss: 0.3250\n",
            "Epoch 10/20\n",
            "\u001b[1m86/86\u001b[0m \u001b[32m━━━━━━━━━━━━━━━━━━━━\u001b[0m\u001b[37m\u001b[0m \u001b[1m21s\u001b[0m 150ms/step - accuracy: 0.9901 - loss: 0.0352 - val_accuracy: 0.9503 - val_loss: 0.1904\n"
          ]
        }
      ],
      "source": [
        "history = model.fit(train_ds, validation_data=val_ds, epochs=20, callbacks=[\n",
        "    EarlyStopping(patience=3, restore_best_weights=True)\n",
        "])"
      ]
    },
    {
      "cell_type": "markdown",
      "id": "04473b90",
      "metadata": {},
      "source": [
        "### ÉVALUATION DES PERFORMANCES"
      ]
    },
    {
      "cell_type": "code",
      "execution_count": null,
      "id": "21976006",
      "metadata": {
        "colab": {
          "base_uri": "https://localhost:8080/"
        },
        "id": "21976006",
        "outputId": "a28d8be8-3701-477d-a899-6a57f693dce0"
      },
      "outputs": [
        {
          "name": "stdout",
          "output_type": "stream",
          "text": [
            "\u001b[1m22/22\u001b[0m \u001b[32m━━━━━━━━━━━━━━━━━━━━\u001b[0m\u001b[37m\u001b[0m \u001b[1m2s\u001b[0m 107ms/step - accuracy: 0.9769 - loss: 0.1168\n",
            "Accuracy : 96.78%\n"
          ]
        }
      ],
      "source": [
        "loss, accuracy = model.evaluate(val_ds)\n",
        "print(f\"Accuracy : {accuracy*100:.2f}%\")"
      ]
    },
    {
      "cell_type": "code",
      "execution_count": null,
      "id": "72e8924f",
      "metadata": {
        "colab": {
          "base_uri": "https://localhost:8080/",
          "height": 474
        },
        "id": "72e8924f",
        "outputId": "6cdac5c8-4cb8-4eeb-bcd8-161a9e388a4c"
      },
      "outputs": [
        {
          "data": {
            "image/png": "[encoded data removed]",
            "text/plain": [
              "<Figure size 640x480 with 1 Axes>"
            ]
          },
          "metadata": {},
          "output_type": "display_data"
        }
      ],
      "source": [
        "plt.plot(history.history['accuracy'], label='train')\n",
        "plt.plot(history.history['val_accuracy'], label='val')\n",
        "plt.xlabel('Épochs')\n",
        "plt.ylabel('Accuracy')\n",
        "plt.legend()\n",
        "plt.title(\"Performance du modèle\")\n",
        "plt.show()"
      ]
    },
    {
      "cell_type": "markdown",
      "id": "9ffbae9f",
      "metadata": {},
      "source": [
        "### SAUVEGARDE DU MODÈLE"
      ]
    },
    {
      "cell_type": "code",
      "execution_count": null,
      "id": "bZJ5bKyE1jN8",
      "metadata": {
        "id": "bZJ5bKyE1jN8"
      },
      "outputs": [
        {
          "name": "stdout",
          "output_type": "stream",
          "text": [
            "Modèle sauvegardé sous le nom 'R-45-30-96,78.keras'\n"
          ]
        }
      ],
      "source": [
        "model.save(\"R-45-30-96,78.keras\")\n",
        "# ResNet50, 45% de dropout, 30 dernières couches dégelées, 96,78% d'accuracy"
      ]
    }
  ],
  "metadata": {
    "accelerator": "GPU",
    "colab": {
      "gpuType": "T4",
      "provenance": []
    },
    "kernelspec": {
      "display_name": "Python 3",
      "name": "python3"
    },
    "language_info": {
      "codemirror_mode": {
        "name": "ipython",
        "version": 3
      },
      "file_extension": ".py",
      "mimetype": "text/x-python",
      "name": "python",
      "nbconvert_exporter": "python",
      "pygments_lexer": "ipython3",
      "version": "3.11.0"
    }
  },
  "nbformat": 4,
  "nbformat_minor": 5
}
